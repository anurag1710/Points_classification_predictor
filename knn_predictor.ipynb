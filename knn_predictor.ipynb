{
 "cells": [
  {
   "cell_type": "markdown",
   "metadata": {},
   "source": [
    "Here we'll make a function to calculate distance between two points"
   ]
  },
  {
   "cell_type": "code",
   "execution_count": 13,
   "metadata": {},
   "outputs": [],
   "source": [
    "import numpy as np\n",
    "import random\n",
    "import matplotlib.pyplot as plt\n",
    "import scipy.stats as ss\n",
    "\n",
    "#function of distance between two points\n",
    "def distance(p1,p2):\n",
    "    \"\"\"find the distance between two points\"\"\"\n",
    "    return np.sqrt(np.sum(np.power(p2-p1,2)))"
   ]
  },
  {
   "cell_type": "markdown",
   "metadata": {},
   "source": [
    "We'll take the list and then convert it into a dictionary where frequency of the numbers will be counted and then picking up the max occuring number from the dictionary using item function of the dictionary. I've used random funciton since if there can bemultiple numbers having same frequency then it would pick up only one number from it."
   ]
  },
  {
   "cell_type": "code",
   "execution_count": 7,
   "metadata": {},
   "outputs": [],
   "source": [
    "def majority_votes(votes):\n",
    "    \"\"\"It will count the frequency of numbers from the argument (passed as list) and then a dictionary will be \n",
    "    created from which the frequent occuring numbers are return as list\"\"\"\n",
    "    vote_counts={}\n",
    "    for vote in votes:\n",
    "        if vote in vote_counts:\n",
    "            vote_counts[vote]+=1\n",
    "        else:\n",
    "            vote_counts[vote]=1\n",
    "    winners=[]\n",
    "    max_counts=max(vote_counts.values())\n",
    "    for key,value in vote_counts.items():\n",
    "        if value==max_counts:\n",
    "            winners.append(key)\n",
    "    return random.choice(winners)"
   ]
  },
  {
   "cell_type": "markdown",
   "metadata": {},
   "source": [
    "Now, the given point will be compared and distance of this point will be calculated from each neighbouring point. All the distances will be sorted in  and their indexes will be returned in sorted manner."
   ]
  },
  {
   "cell_type": "code",
   "execution_count": 6,
   "metadata": {},
   "outputs": [],
   "source": [
    "def find_nearest_neighbours(p,points,k=5):\n",
    "    \"\"\"find the K nearest neighbours of point P and return their indices\"\"\"\n",
    "    distances=np.zeros(points.shape[0])   #array of size of points\n",
    "    for i in range(len(distances)):\n",
    "        distances[i]=distance(p,points[i])\n",
    "    ind=np.argsort(distances)\n",
    "    return ind[0:k]"
   ]
  },
  {
   "cell_type": "code",
   "execution_count": 8,
   "metadata": {},
   "outputs": [],
   "source": [
    "def knn_predict(p,points,outcomes,k=5):\n",
    "    ind =find_nearest_neighbours(p,points,k)\n",
    "    return majority_votes(outcomes[ind])\n",
    "    "
   ]
  },
  {
   "cell_type": "markdown",
   "metadata": {},
   "source": [
    "Here we are generating our own set of Points and Outcomes (classes to which every point belongs to) from computer"
   ]
  },
  {
   "cell_type": "code",
   "execution_count": 16,
   "metadata": {},
   "outputs": [],
   "source": [
    "def generate_synth_data(n=50):   #n can be said as rows\n",
    "    \"\"\"Creates two sets of points from bivariate and normal distributions.\"\"\"\n",
    "    points=np.concatenate((ss.norm(0,1).rvs((n,2)),ss.norm(1,1).rvs((n,2))),axis=0)        #n,2 is rows and columns\n",
    "    outcomes=np.concatenate((np.repeat(0,n),np.repeat(1,n)))\n",
    "    return (points,outcomes)"
   ]
  },
  {
   "cell_type": "markdown",
   "metadata": {},
   "source": [
    "We'll plot points generated synthetically and then we can predict the class of any point from the figure generated."
   ]
  },
  {
   "cell_type": "code",
   "execution_count": 20,
   "metadata": {},
   "outputs": [],
   "source": [
    "def make_prediction_grid(predictors,outcomes,limits,h,k):\n",
    "    \"\"\"Classify each point on the prediction grid.\"\"\"\n",
    "    (x_min,x_max,y_min,y_max)=limits\n",
    "    xs=np.arange(x_min,x_max,h)\n",
    "    ys=np.arange(y_min,y_max,h) \n",
    "    xx,yy = np.meshgrid(xs,ys)\n",
    "    \n",
    "    prediction_grid=np.zeros(xx.shape,dtype=int)\n",
    "    for i,x in enumerate(xs):\n",
    "        for j,y in enumerate(ys):\n",
    "            p=np.array([x,y])\n",
    "            prediction_grid[j,i]= knn_predict(p,predictors,outcomes,k)\n",
    "    \n",
    "    return (xx,yy,prediction_grid)"
   ]
  },
  {
   "cell_type": "code",
   "execution_count": 21,
   "metadata": {},
   "outputs": [],
   "source": [
    "def plot_prediction_grid (xx, yy, prediction_grid, filename):\n",
    "    \"\"\" Plot KNN predictions for every point on the grid.\"\"\"\n",
    "    from matplotlib.colors import ListedColormap\n",
    "    background_colormap = ListedColormap ([\"hotpink\",\"lightskyblue\", \"yellowgreen\"])\n",
    "    observation_colormap = ListedColormap ([\"red\",\"blue\",\"green\"])\n",
    "    plt.figure(figsize =(10,10))\n",
    "    plt.pcolormesh(xx, yy, prediction_grid, cmap = background_colormap, alpha = 0.5)\n",
    "    plt.scatter(predictors[:,0], predictors [:,1], c = outcomes, cmap = observation_colormap, s = 50)\n",
    "    plt.xlabel('Variable 1'); plt.ylabel('Variable 2')\n",
    "    plt.xticks(()); plt.yticks(())\n",
    "    plt.xlim (np.min(xx), np.max(xx))\n",
    "    plt.ylim (np.min(yy), np.max(yy))\n",
    "    plt.savefig(filename)"
   ]
  },
  {
   "cell_type": "markdown",
   "metadata": {},
   "source": [
    "Now, we have to generate our points and plot the figure."
   ]
  },
  {
   "cell_type": "code",
   "execution_count": 22,
   "metadata": {},
   "outputs": [],
   "source": [
    "(predictors,outcomes)=generate_synth_data()"
   ]
  },
  {
   "cell_type": "code",
   "execution_count": 28,
   "metadata": {},
   "outputs": [],
   "source": [
    "k=5\n",
    "filename=\"knn_predictor.pdf\" \n",
    "limits=(-3,4,-3,4)\n",
    "h=0.1"
   ]
  },
  {
   "cell_type": "code",
   "execution_count": 29,
   "metadata": {},
   "outputs": [],
   "source": [
    "(xx,yy,prediction_grid)=make_prediction_grid(predictors,outcomes,limits,h,k)"
   ]
  },
  {
   "cell_type": "code",
   "execution_count": 30,
   "metadata": {},
   "outputs": [
    {
     "data": {
      "image/png": "[encoded data removed]",
      "text/plain": [
       "<Figure size 720x720 with 1 Axes>"
      ]
     },
     "metadata": {},
     "output_type": "display_data"
    }
   ],
   "source": [
    "plot_prediction_grid(xx,yy,prediction_grid,filename)"
   ]
  },
  {
   "cell_type": "markdown",
   "metadata": {},
   "source": [
    "So, from the above figure you can manipulate the inputs accordingly and then you can see the change in smoothnes of class of different colors. This figure will be saved in your current working directory in \".pdf\" format which can be used to compared smoothness of classes at various inputs in functions."
   ]
  }
 ],
 "metadata": {
  "kernelspec": {
   "display_name": "Python 3",
   "language": "python",
   "name": "python3"
  },
  "language_info": {
   "codemirror_mode": {
    "name": "ipython",
    "version": 3
   },
   "file_extension": ".py",
   "mimetype": "text/x-python",
   "name": "python",
   "nbconvert_exporter": "python",
   "pygments_lexer": "ipython3",
   "version": "3.7.6"
  }
 },
 "nbformat": 4,
 "nbformat_minor": 4
}
